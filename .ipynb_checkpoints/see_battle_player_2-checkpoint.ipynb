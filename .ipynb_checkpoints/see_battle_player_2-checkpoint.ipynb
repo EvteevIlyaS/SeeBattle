{
 "cells": [
  {
   "cell_type": "code",
   "execution_count": 17,
   "metadata": {
    "ExecuteTime": {
     "end_time": "2021-05-20T19:09:16.540843Z",
     "start_time": "2021-05-20T19:08:24.260315Z"
    },
    "scrolled": false
   },
   "outputs": [
    {
     "name": "stdout",
     "output_type": "stream",
     "text": [
      "3 - номер строки коробля игрока 2\n",
      "1 - номер колонки коробля игрока 2\n",
      "\n",
      "Ход игрока 1: 4 row, 3 col\n",
      "Промах\n",
      "Поле игрока 2\n",
      "O O O O\n",
      "O O O O\n",
      "O O O O\n",
      "O O X O\n",
      "\n",
      "Ход игрока 1: 3 row, 3 col\n",
      "Промах\n",
      "Поле игрока 2\n",
      "O O O O\n",
      "O O O O\n",
      "O O X O\n",
      "O O X O\n",
      "\n",
      "Ход игрока 1: 2 row, 4 col\n",
      "Промах\n",
      "Поле игрока 2\n",
      "O O O O\n",
      "O O O X\n",
      "O O X O\n",
      "O O X O\n",
      "\n",
      "Ход игрока 1: 3 row, 4 col\n",
      "Промах\n",
      "Поле игрока 2\n",
      "O O O O\n",
      "O O O X\n",
      "O O X X\n",
      "O O X O\n",
      "\n",
      "Ход игрока 1: 1 row, 1 col\n",
      "Промах\n",
      "Поле игрока 2\n",
      "X O O O\n",
      "O O O X\n",
      "O O X X\n",
      "O O X O\n",
      "\n",
      "Ход игрока 1: 4 row, 1 col\n",
      "Промах\n",
      "Поле игрока 2\n",
      "X O O O\n",
      "O O O X\n",
      "O O X X\n",
      "X O X O\n",
      "\n",
      "Ход игрока 1: 3 row, 1 col\n",
      "Игрок 1 победил!\n"
     ]
    }
   ],
   "source": [
    "import pika\n",
    "import time\n",
    "import random\n",
    "import traceback\n",
    "import sys\n",
    "\n",
    "# =================================================================================================\n",
    "\n",
    "board = []\n",
    "\n",
    "for i in range(4):\n",
    "    board.append(['O'] * 4)\n",
    "\n",
    "\n",
    "def print_board(board):\n",
    "    for row in board:\n",
    "        print(' '.join(row))\n",
    "\n",
    "\n",
    "def random_row(board):\n",
    "    return random.randint(1, 4)\n",
    "\n",
    "\n",
    "def random_col(board):\n",
    "    return random.randint(1, 4)\n",
    "\n",
    "\n",
    "ship_row = random_row(board)\n",
    "ship_col = random_col(board)\n",
    "\n",
    "print(f'{ship_row} - номер строки коробля игрока 2')\n",
    "print(f'{ship_col} - номер колонки коробля игрока 2')\n",
    "\n",
    "# =================================================================================================\n",
    "\n",
    "conn_params = pika.ConnectionParameters('localhost', '5672')\n",
    "\n",
    "conn = pika.BlockingConnection(conn_params)\n",
    "\n",
    "channel_1 = conn.channel()\n",
    "channel_2 = conn.channel()\n",
    "\n",
    "channel_1.queue_declare(queue='first-queue')\n",
    "channel_2.queue_declare(queue='second-queue')\n",
    "\n",
    "\n",
    "def callback(ch, method, properties, body):\n",
    "    time.sleep(2)\n",
    "    guess_row, guess_col = map(int, body.split())\n",
    "    if guess_row == 10 and guess_col == 10:\n",
    "        channel_1.stop_consuming()\n",
    "        return\n",
    "    print(f'\\nХод игрока 1: {guess_row} row, {guess_col} col')\n",
    "\n",
    "    if guess_row == ship_row and guess_col == ship_col:\n",
    "        print('Игрок 1 победил!')\n",
    "        channel_2.basic_publish(exchange='',\n",
    "                        routing_key='first-queue',\n",
    "                        body='10 10')\n",
    "        channel_1.stop_consuming()\n",
    "        return\n",
    "    else:\n",
    "        if board[guess_row - 1][guess_col - 1] == 'X':\n",
    "            print('Выстрел в эту точку уже был произведен!')\n",
    "        else:\n",
    "            print('Промах')\n",
    "            board[guess_row - 1][guess_col - 1] = 'X'\n",
    "    \n",
    "    print('Поле игрока 2')\n",
    "    print_board(board)\n",
    "\n",
    "    time.sleep(2)\n",
    "    channel_2.basic_publish(exchange='',\n",
    "                            routing_key='second-queue',\n",
    "                            body=str(random.randint(1, 4)) + ' ' + str(random.randint(1, 4)))\n",
    "    time.sleep(2)\n",
    "    channel_1.basic_consume(on_message_callback=callback,\n",
    "                            queue='first-queue', auto_ack=True)\n",
    "\n",
    "\n",
    "channel_1.basic_consume(on_message_callback=callback,\n",
    "                        queue='first-queue', auto_ack=True)\n",
    "\n",
    "time.sleep(2)\n",
    "\n",
    "try:\n",
    "    channel_1.start_consuming()\n",
    "    channel_1.queue_delete(queue='first-queue')\n",
    "    channel_2.queue_delete(queue='second-queue')\n",
    "    channel_1.close()\n",
    "    channel_2.close()\n",
    "except KeyboardInterrupt:\n",
    "    channel_1.stop_consuming()\n",
    "    channel_1.queue_delete(queue='first-queue')\n",
    "    channel_2.queue_delete(queue='second-queue')\n",
    "    channel_1.close()\n",
    "    channel_2.close()\n",
    "except Exception:\n",
    "    channel_1.stop_consuming()\n",
    "    channel_1.queue_delete(queue='first-queue')\n",
    "    channel_2.queue_delete(queue='second-queue')\n",
    "    channel_1.close()\n",
    "    channel_2.close()\n",
    "    traceback.print_exc(file=sys.stdout)\n",
    "\n",
    "conn.close()"
   ]
  },
  {
   "cell_type": "code",
   "execution_count": 10,
   "metadata": {
    "ExecuteTime": {
     "end_time": "2021-05-19T19:01:03.664212Z",
     "start_time": "2021-05-19T19:01:03.627271Z"
    }
   },
   "outputs": [
    {
     "data": {
      "text/plain": [
       "<METHOD(['channel_number=2', 'frame_type=1', \"method=<Queue.DeleteOk(['message_count=0'])>\"])>"
      ]
     },
     "execution_count": 10,
     "metadata": {},
     "output_type": "execute_result"
    }
   ],
   "source": [
    "channel_1.queue_delete(queue='first-queue')\n",
    "channel_2.queue_delete(queue='second-queue')"
   ]
  },
  {
   "cell_type": "code",
   "execution_count": 10,
   "metadata": {
    "ExecuteTime": {
     "end_time": "2021-05-20T18:40:10.958211Z",
     "start_time": "2021-05-20T18:40:10.950435Z"
    }
   },
   "outputs": [],
   "source": [
    "a, b = map(int, ['1', '2'])"
   ]
  },
  {
   "cell_type": "code",
   "execution_count": 12,
   "metadata": {
    "ExecuteTime": {
     "end_time": "2021-05-20T18:40:15.413705Z",
     "start_time": "2021-05-20T18:40:15.406913Z"
    }
   },
   "outputs": [
    {
     "data": {
      "text/plain": [
       "2"
      ]
     },
     "execution_count": 12,
     "metadata": {},
     "output_type": "execute_result"
    }
   ],
   "source": [
    "b"
   ]
  },
  {
   "cell_type": "code",
   "execution_count": null,
   "metadata": {},
   "outputs": [],
   "source": []
  }
 ],
 "metadata": {
  "kernelspec": {
   "display_name": "Python 3",
   "language": "python",
   "name": "python3"
  },
  "language_info": {
   "codemirror_mode": {
    "name": "ipython",
    "version": 3
   },
   "file_extension": ".py",
   "mimetype": "text/x-python",
   "name": "python",
   "nbconvert_exporter": "python",
   "pygments_lexer": "ipython3",
   "version": "3.8.6"
  }
 },
 "nbformat": 4,
 "nbformat_minor": 4
}
