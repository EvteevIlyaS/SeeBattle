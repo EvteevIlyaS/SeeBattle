{
 "cells": [
  {
   "cell_type": "code",
   "execution_count": 30,
   "metadata": {
    "ExecuteTime": {
     "end_time": "2021-05-20T19:10:33.548912Z",
     "start_time": "2021-05-20T19:10:14.540321Z"
    },
    "scrolled": false
   },
   "outputs": [
    {
     "name": "stdout",
     "output_type": "stream",
     "text": [
      "3 - номер строки коробля игрока 1\n",
      "1 - номер колонки коробля игрока 1\n",
      "\n",
      "Ход игрока 2: 2 row, 3 col\n",
      "Промах\n",
      "Поле игрока 2\n",
      "O O O\n",
      "O O X\n",
      "O O O\n",
      "\n",
      "Ход игрока 2: 3 row, 1 col\n",
      "Игрок 2 победил!\n"
     ]
    }
   ],
   "source": [
    "import pika\n",
    "import time\n",
    "import random\n",
    "import traceback\n",
    "import sys\n",
    "\n",
    "# =================================================================================================\n",
    "\n",
    "board = []\n",
    "\n",
    "for i in range(3):\n",
    "    board.append(['O'] * 3)\n",
    "\n",
    "\n",
    "def print_board(board):\n",
    "    for row in board:\n",
    "        print(' '.join(row))\n",
    "\n",
    "\n",
    "def random_row(board):\n",
    "    return random.randint(1, 3)\n",
    "\n",
    "\n",
    "def random_col(board):\n",
    "    return random.randint(1, 3)\n",
    "\n",
    "\n",
    "ship_row = random_row(board)\n",
    "ship_col = random_col(board)\n",
    "\n",
    "print(f'{ship_row} - номер строки коробля игрока 1')\n",
    "print(f'{ship_col} - номер колонки коробля игрока 1')\n",
    "\n",
    "# =================================================================================================\n",
    "\n",
    "conn_params = pika.ConnectionParameters('localhost', '5672')\n",
    "\n",
    "conn = pika.BlockingConnection(conn_params)\n",
    "\n",
    "channel_1 = conn.channel()\n",
    "channel_2 = conn.channel()\n",
    "\n",
    "channel_1.queue_declare(queue='first-queue')\n",
    "channel_2.queue_declare(queue='second-queue')\n",
    "\n",
    "\n",
    "def callback(ch, method, properties, body):\n",
    "    time.sleep(2)\n",
    "    guess_row, guess_col = map(int, body.split())\n",
    "    if guess_row == 10 and guess_col == 10:\n",
    "        channel_2.stop_consuming()\n",
    "        return\n",
    "    print(f'\\nХод игрока 2: {guess_row} row, {guess_col} col')\n",
    "    \n",
    "    if guess_row == ship_row and guess_col == ship_col:\n",
    "        print('Игрок 2 победил!')\n",
    "        channel_1.basic_publish(exchange='',\n",
    "                        routing_key='first-queue',\n",
    "                        body='10 10')\n",
    "        channel_2.stop_consuming()\n",
    "        return\n",
    "    else:\n",
    "        if board[guess_row - 1][guess_col - 1] == 'X':\n",
    "            print('Выстрел в эту точку уже был произведен!')\n",
    "        else:\n",
    "            print('Промах')\n",
    "            board[guess_row - 1][guess_col - 1] = 'X'\n",
    "    \n",
    "    print('Поле игрока 2')\n",
    "    print_board(board)\n",
    "    \n",
    "    time.sleep(2)\n",
    "    channel_1.basic_publish(exchange='',\n",
    "                            routing_key='first-queue',\n",
    "                            body=str(random.randint(1, 3)) + ' ' + str(random.randint(1, 3)))\n",
    "    time.sleep(2)\n",
    "    channel_2.basic_consume(on_message_callback=callback,\n",
    "                            queue='second-queue', auto_ack=True)\n",
    "\n",
    "\n",
    "channel_1.basic_publish(exchange='',\n",
    "                        routing_key='first-queue',\n",
    "                        body=str(random.randint(1, 3)) + ' ' + str(random.randint(1, 3)))\n",
    "\n",
    "channel_2.basic_consume(on_message_callback=callback,\n",
    "                        queue='second-queue', auto_ack=True)\n",
    "\n",
    "try:\n",
    "    channel_2.start_consuming()\n",
    "    channel_1.queue_delete(queue='first-queue')\n",
    "    channel_2.queue_delete(queue='second-queue')\n",
    "    channel_1.close()\n",
    "    channel_2.close()\n",
    "except KeyboardInterrupt:\n",
    "    channel_2.stop_consuming()\n",
    "    channel_1.queue_delete(queue='first-queue')\n",
    "    channel_2.queue_delete(queue='second-queue')\n",
    "    channel_1.close()\n",
    "    channel_2.close()\n",
    "except Exception:\n",
    "    channel_2.stop_consuming()\n",
    "    channel_1.queue_delete(queue='first-queue')\n",
    "    channel_2.queue_delete(queue='second-queue')\n",
    "    channel_1.close()\n",
    "    channel_2.close()\n",
    "    traceback.print_exc(file=sys.stdout)\n",
    "\n",
    "conn.close()"
   ]
  },
  {
   "cell_type": "code",
   "execution_count": 4,
   "metadata": {
    "ExecuteTime": {
     "end_time": "2021-05-19T19:03:44.014412Z",
     "start_time": "2021-05-19T19:03:43.961568Z"
    }
   },
   "outputs": [],
   "source": [
    "channel_1.queue_delete(queue='first-queue')\n",
    "channel_2.queue_delete(queue='second-queue')\n",
    "channel_1.close()\n",
    "channel_2.close()"
   ]
  },
  {
   "cell_type": "code",
   "execution_count": null,
   "metadata": {},
   "outputs": [],
   "source": []
  },
  {
   "cell_type": "code",
   "execution_count": 8,
   "metadata": {
    "ExecuteTime": {
     "end_time": "2021-05-20T18:17:52.185019Z",
     "start_time": "2021-05-20T18:17:52.181245Z"
    }
   },
   "outputs": [],
   "source": [
    "import random"
   ]
  },
  {
   "cell_type": "code",
   "execution_count": 3,
   "metadata": {
    "ExecuteTime": {
     "end_time": "2021-05-20T18:16:24.915449Z",
     "start_time": "2021-05-20T18:16:24.910313Z"
    }
   },
   "outputs": [],
   "source": [
    "board = []\n",
    "\n",
    "for i in range(5):\n",
    "    board.append(['O'] * 5)"
   ]
  },
  {
   "cell_type": "code",
   "execution_count": 6,
   "metadata": {
    "ExecuteTime": {
     "end_time": "2021-05-20T18:16:58.294866Z",
     "start_time": "2021-05-20T18:16:58.286901Z"
    }
   },
   "outputs": [],
   "source": [
    "def print_board(board):\n",
    "    for row in board:\n",
    "        print(' '.join(row))"
   ]
  },
  {
   "cell_type": "code",
   "execution_count": 7,
   "metadata": {
    "ExecuteTime": {
     "end_time": "2021-05-20T18:16:58.699568Z",
     "start_time": "2021-05-20T18:16:58.693796Z"
    }
   },
   "outputs": [
    {
     "name": "stdout",
     "output_type": "stream",
     "text": [
      "O O O O O\n",
      "O O O O O\n",
      "O O O O O\n",
      "O O O O O\n",
      "O O O O O\n"
     ]
    }
   ],
   "source": [
    "print_board(board)"
   ]
  },
  {
   "cell_type": "code",
   "execution_count": 19,
   "metadata": {
    "ExecuteTime": {
     "end_time": "2021-05-20T18:24:33.922746Z",
     "start_time": "2021-05-20T18:24:33.913323Z"
    }
   },
   "outputs": [],
   "source": [
    "def random_row(board):\n",
    "    return random.randint(1, len(board))\n",
    "\n",
    "def random_col(board):\n",
    "    return random.randint(1, len(board[0]))\n",
    "\n",
    "ship_row = random_row(board)\n",
    "ship_col = random_col(board)"
   ]
  },
  {
   "cell_type": "code",
   "execution_count": 20,
   "metadata": {
    "ExecuteTime": {
     "end_time": "2021-05-20T18:24:34.091376Z",
     "start_time": "2021-05-20T18:24:34.085545Z"
    }
   },
   "outputs": [
    {
     "name": "stdout",
     "output_type": "stream",
     "text": [
      "2 2\n"
     ]
    }
   ],
   "source": [
    "tries = 10"
   ]
  },
  {
   "cell_type": "code",
   "execution_count": null,
   "metadata": {},
   "outputs": [],
   "source": []
  }
 ],
 "metadata": {
  "kernelspec": {
   "display_name": "Python 3",
   "language": "python",
   "name": "python3"
  },
  "language_info": {
   "codemirror_mode": {
    "name": "ipython",
    "version": 3
   },
   "file_extension": ".py",
   "mimetype": "text/x-python",
   "name": "python",
   "nbconvert_exporter": "python",
   "pygments_lexer": "ipython3",
   "version": "3.8.6"
  }
 },
 "nbformat": 4,
 "nbformat_minor": 4
}
